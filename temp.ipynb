{
 "cells": [
  {
   "cell_type": "code",
   "execution_count": 175,
   "metadata": {},
   "outputs": [],
   "source": [
    "import matplotlib.pyplot as plt\n",
    "import numpy as np\n",
    "import pandas as pd\n",
    "from sklearn import linear_model\n",
    "import statsmodels.formula.api as smf\n",
    "from sqlalchemy import create_engine"
   ]
  },
  {
   "cell_type": "code",
   "execution_count": 176,
   "metadata": {},
   "outputs": [
    {
     "data": {
      "text/html": [
       "<div>\n",
       "<style scoped>\n",
       "    .dataframe tbody tr th:only-of-type {\n",
       "        vertical-align: middle;\n",
       "    }\n",
       "\n",
       "    .dataframe tbody tr th {\n",
       "        vertical-align: top;\n",
       "    }\n",
       "\n",
       "    .dataframe thead th {\n",
       "        text-align: right;\n",
       "    }\n",
       "</style>\n",
       "<table border=\"1\" class=\"dataframe\">\n",
       "  <thead>\n",
       "    <tr style=\"text-align: right;\">\n",
       "      <th></th>\n",
       "      <th>date</th>\n",
       "      <th>summary</th>\n",
       "      <th>preciptype</th>\n",
       "      <th>temperature</th>\n",
       "      <th>apparenttemperature</th>\n",
       "      <th>humidity</th>\n",
       "      <th>windspeed</th>\n",
       "      <th>windbearing</th>\n",
       "      <th>visibility</th>\n",
       "      <th>loudcover</th>\n",
       "      <th>pressure</th>\n",
       "      <th>dailysummary</th>\n",
       "    </tr>\n",
       "  </thead>\n",
       "  <tbody>\n",
       "    <tr>\n",
       "      <th>0</th>\n",
       "      <td>2006-03-31 22:00:00+00:00</td>\n",
       "      <td>Partly Cloudy</td>\n",
       "      <td>rain</td>\n",
       "      <td>9.472</td>\n",
       "      <td>7.389</td>\n",
       "      <td>0.890</td>\n",
       "      <td>14.120</td>\n",
       "      <td>251.000</td>\n",
       "      <td>15.826</td>\n",
       "      <td>0.000</td>\n",
       "      <td>1015.130</td>\n",
       "      <td>Partly cloudy throughout the day.</td>\n",
       "    </tr>\n",
       "    <tr>\n",
       "      <th>1</th>\n",
       "      <td>2006-03-31 23:00:00+00:00</td>\n",
       "      <td>Partly Cloudy</td>\n",
       "      <td>rain</td>\n",
       "      <td>9.356</td>\n",
       "      <td>7.228</td>\n",
       "      <td>0.860</td>\n",
       "      <td>14.265</td>\n",
       "      <td>259.000</td>\n",
       "      <td>15.826</td>\n",
       "      <td>0.000</td>\n",
       "      <td>1015.630</td>\n",
       "      <td>Partly cloudy throughout the day.</td>\n",
       "    </tr>\n",
       "    <tr>\n",
       "      <th>2</th>\n",
       "      <td>2006-04-01 00:00:00+00:00</td>\n",
       "      <td>Mostly Cloudy</td>\n",
       "      <td>rain</td>\n",
       "      <td>9.378</td>\n",
       "      <td>9.378</td>\n",
       "      <td>0.890</td>\n",
       "      <td>3.928</td>\n",
       "      <td>204.000</td>\n",
       "      <td>14.957</td>\n",
       "      <td>0.000</td>\n",
       "      <td>1015.940</td>\n",
       "      <td>Partly cloudy throughout the day.</td>\n",
       "    </tr>\n",
       "    <tr>\n",
       "      <th>3</th>\n",
       "      <td>2006-04-01 01:00:00+00:00</td>\n",
       "      <td>Partly Cloudy</td>\n",
       "      <td>rain</td>\n",
       "      <td>8.289</td>\n",
       "      <td>5.944</td>\n",
       "      <td>0.830</td>\n",
       "      <td>14.104</td>\n",
       "      <td>269.000</td>\n",
       "      <td>15.826</td>\n",
       "      <td>0.000</td>\n",
       "      <td>1016.410</td>\n",
       "      <td>Partly cloudy throughout the day.</td>\n",
       "    </tr>\n",
       "    <tr>\n",
       "      <th>4</th>\n",
       "      <td>2006-04-01 02:00:00+00:00</td>\n",
       "      <td>Mostly Cloudy</td>\n",
       "      <td>rain</td>\n",
       "      <td>8.756</td>\n",
       "      <td>6.978</td>\n",
       "      <td>0.830</td>\n",
       "      <td>11.045</td>\n",
       "      <td>259.000</td>\n",
       "      <td>15.826</td>\n",
       "      <td>0.000</td>\n",
       "      <td>1016.510</td>\n",
       "      <td>Partly cloudy throughout the day.</td>\n",
       "    </tr>\n",
       "  </tbody>\n",
       "</table>\n",
       "</div>"
      ],
      "text/plain": [
       "                       date        summary preciptype  temperature  \\\n",
       "0 2006-03-31 22:00:00+00:00  Partly Cloudy       rain        9.472   \n",
       "1 2006-03-31 23:00:00+00:00  Partly Cloudy       rain        9.356   \n",
       "2 2006-04-01 00:00:00+00:00  Mostly Cloudy       rain        9.378   \n",
       "3 2006-04-01 01:00:00+00:00  Partly Cloudy       rain        8.289   \n",
       "4 2006-04-01 02:00:00+00:00  Mostly Cloudy       rain        8.756   \n",
       "\n",
       "   apparenttemperature  humidity  windspeed  windbearing  visibility  \\\n",
       "0                7.389     0.890     14.120      251.000      15.826   \n",
       "1                7.228     0.860     14.265      259.000      15.826   \n",
       "2                9.378     0.890      3.928      204.000      14.957   \n",
       "3                5.944     0.830     14.104      269.000      15.826   \n",
       "4                6.978     0.830     11.045      259.000      15.826   \n",
       "\n",
       "   loudcover  pressure                       dailysummary  \n",
       "0      0.000  1015.130  Partly cloudy throughout the day.  \n",
       "1      0.000  1015.630  Partly cloudy throughout the day.  \n",
       "2      0.000  1015.940  Partly cloudy throughout the day.  \n",
       "3      0.000  1016.410  Partly cloudy throughout the day.  \n",
       "4      0.000  1016.510  Partly cloudy throughout the day.  "
      ]
     },
     "execution_count": 176,
     "metadata": {},
     "output_type": "execute_result"
    }
   ],
   "source": [
    "# Display preferences.\n",
    "%matplotlib inline\n",
    "pd.options.display.float_format = '{:.3f}'.format\n",
    "import warnings\n",
    "warnings.filterwarnings(action=\"ignore\")\n",
    "\n",
    "postgres_user = 'dsbc_student'\n",
    "postgres_pw = '7*.8G9QH21'\n",
    "postgres_host = '142.93.121.174'\n",
    "postgres_port = '5432'\n",
    "postgres_db = 'weatherinszeged'\n",
    "\n",
    "engine = create_engine('postgresql://{}:{}@{}:{}/{}'.format(\n",
    "    postgres_user, postgres_pw, postgres_host, postgres_port, postgres_db))\n",
    "\n",
    "temp_df = pd.read_sql_query('select * from weatherinszeged',con=engine)\n",
    "\n",
    "# no need for an open connection, as we're only doing a single query\n",
    "engine.dispose()\n",
    "\n",
    "temp_df.head()"
   ]
  },
  {
   "cell_type": "code",
   "execution_count": 177,
   "metadata": {},
   "outputs": [
    {
     "data": {
      "text/plain": [
       "date                   datetime64[ns, UTC]\n",
       "summary                             object\n",
       "preciptype                          object\n",
       "temperature                        float64\n",
       "apparenttemperature                float64\n",
       "humidity                           float64\n",
       "windspeed                          float64\n",
       "windbearing                        float64\n",
       "visibility                         float64\n",
       "loudcover                          float64\n",
       "pressure                           float64\n",
       "dailysummary                        object\n",
       "dtype: object"
      ]
     },
     "execution_count": 177,
     "metadata": {},
     "output_type": "execute_result"
    }
   ],
   "source": [
    "temp_df.dtypes"
   ]
  },
  {
   "cell_type": "code",
   "execution_count": 178,
   "metadata": {},
   "outputs": [],
   "source": [
    "# The target is the temperature.\n",
    "# Let's plot a histogram"
   ]
  },
  {
   "cell_type": "code",
   "execution_count": 179,
   "metadata": {},
   "outputs": [
    {
     "data": {
      "text/html": [
       "<div>\n",
       "<style scoped>\n",
       "    .dataframe tbody tr th:only-of-type {\n",
       "        vertical-align: middle;\n",
       "    }\n",
       "\n",
       "    .dataframe tbody tr th {\n",
       "        vertical-align: top;\n",
       "    }\n",
       "\n",
       "    .dataframe thead th {\n",
       "        text-align: right;\n",
       "    }\n",
       "</style>\n",
       "<table border=\"1\" class=\"dataframe\">\n",
       "  <thead>\n",
       "    <tr style=\"text-align: right;\">\n",
       "      <th></th>\n",
       "      <th>temperature</th>\n",
       "      <th>apparenttemperature</th>\n",
       "      <th>humidity</th>\n",
       "      <th>windspeed</th>\n",
       "      <th>windbearing</th>\n",
       "      <th>visibility</th>\n",
       "      <th>loudcover</th>\n",
       "      <th>pressure</th>\n",
       "    </tr>\n",
       "  </thead>\n",
       "  <tbody>\n",
       "    <tr>\n",
       "      <th>count</th>\n",
       "      <td>96453.000</td>\n",
       "      <td>96453.000</td>\n",
       "      <td>96453.000</td>\n",
       "      <td>96453.000</td>\n",
       "      <td>96453.000</td>\n",
       "      <td>96453.000</td>\n",
       "      <td>96453.000</td>\n",
       "      <td>96453.000</td>\n",
       "    </tr>\n",
       "    <tr>\n",
       "      <th>mean</th>\n",
       "      <td>11.933</td>\n",
       "      <td>10.855</td>\n",
       "      <td>0.735</td>\n",
       "      <td>10.811</td>\n",
       "      <td>187.509</td>\n",
       "      <td>10.347</td>\n",
       "      <td>0.000</td>\n",
       "      <td>1003.236</td>\n",
       "    </tr>\n",
       "    <tr>\n",
       "      <th>std</th>\n",
       "      <td>9.552</td>\n",
       "      <td>10.697</td>\n",
       "      <td>0.195</td>\n",
       "      <td>6.914</td>\n",
       "      <td>107.383</td>\n",
       "      <td>4.192</td>\n",
       "      <td>0.000</td>\n",
       "      <td>116.970</td>\n",
       "    </tr>\n",
       "    <tr>\n",
       "      <th>min</th>\n",
       "      <td>-21.822</td>\n",
       "      <td>-27.717</td>\n",
       "      <td>0.000</td>\n",
       "      <td>0.000</td>\n",
       "      <td>0.000</td>\n",
       "      <td>0.000</td>\n",
       "      <td>0.000</td>\n",
       "      <td>0.000</td>\n",
       "    </tr>\n",
       "    <tr>\n",
       "      <th>25%</th>\n",
       "      <td>4.689</td>\n",
       "      <td>2.311</td>\n",
       "      <td>0.600</td>\n",
       "      <td>5.828</td>\n",
       "      <td>116.000</td>\n",
       "      <td>8.340</td>\n",
       "      <td>0.000</td>\n",
       "      <td>1011.900</td>\n",
       "    </tr>\n",
       "    <tr>\n",
       "      <th>50%</th>\n",
       "      <td>12.000</td>\n",
       "      <td>12.000</td>\n",
       "      <td>0.780</td>\n",
       "      <td>9.966</td>\n",
       "      <td>180.000</td>\n",
       "      <td>10.046</td>\n",
       "      <td>0.000</td>\n",
       "      <td>1016.450</td>\n",
       "    </tr>\n",
       "    <tr>\n",
       "      <th>75%</th>\n",
       "      <td>18.839</td>\n",
       "      <td>18.839</td>\n",
       "      <td>0.890</td>\n",
       "      <td>14.136</td>\n",
       "      <td>290.000</td>\n",
       "      <td>14.812</td>\n",
       "      <td>0.000</td>\n",
       "      <td>1021.090</td>\n",
       "    </tr>\n",
       "    <tr>\n",
       "      <th>max</th>\n",
       "      <td>39.906</td>\n",
       "      <td>39.344</td>\n",
       "      <td>1.000</td>\n",
       "      <td>63.853</td>\n",
       "      <td>359.000</td>\n",
       "      <td>16.100</td>\n",
       "      <td>0.000</td>\n",
       "      <td>1046.380</td>\n",
       "    </tr>\n",
       "  </tbody>\n",
       "</table>\n",
       "</div>"
      ],
      "text/plain": [
       "       temperature  apparenttemperature  humidity  windspeed  windbearing  \\\n",
       "count    96453.000            96453.000 96453.000  96453.000    96453.000   \n",
       "mean        11.933               10.855     0.735     10.811      187.509   \n",
       "std          9.552               10.697     0.195      6.914      107.383   \n",
       "min        -21.822              -27.717     0.000      0.000        0.000   \n",
       "25%          4.689                2.311     0.600      5.828      116.000   \n",
       "50%         12.000               12.000     0.780      9.966      180.000   \n",
       "75%         18.839               18.839     0.890     14.136      290.000   \n",
       "max         39.906               39.344     1.000     63.853      359.000   \n",
       "\n",
       "       visibility  loudcover  pressure  \n",
       "count   96453.000  96453.000 96453.000  \n",
       "mean       10.347      0.000  1003.236  \n",
       "std         4.192      0.000   116.970  \n",
       "min         0.000      0.000     0.000  \n",
       "25%         8.340      0.000  1011.900  \n",
       "50%        10.046      0.000  1016.450  \n",
       "75%        14.812      0.000  1021.090  \n",
       "max        16.100      0.000  1046.380  "
      ]
     },
     "execution_count": 179,
     "metadata": {},
     "output_type": "execute_result"
    }
   ],
   "source": [
    "temp_df.describe()"
   ]
  },
  {
   "cell_type": "code",
   "execution_count": 180,
   "metadata": {},
   "outputs": [
    {
     "data": {
      "image/png": "[encoded data removed]",
      "text/plain": [
       "<Figure size 432x288 with 1 Axes>"
      ]
     },
     "metadata": {
      "needs_background": "light"
     },
     "output_type": "display_data"
    }
   ],
   "source": [
    "plt.hist(temp_df.temperature)\n",
    "plt.title(\"Distribution of the Temperature\")\n",
    "plt.xlabel(\"Temperature\")\n",
    "plt.ylabel(\"Number of occurance\")\n",
    "plt.show()"
   ]
  },
  {
   "cell_type": "code",
   "execution_count": 181,
   "metadata": {},
   "outputs": [],
   "source": [
    "# Very close to normal distribution"
   ]
  },
  {
   "cell_type": "code",
   "execution_count": 182,
   "metadata": {},
   "outputs": [],
   "source": [
    "# explanatory variables: humidity, windspeed, windbearing, and pressure are \n",
    "# float type. No need to use OneHotEncoding for convertion."
   ]
  },
  {
   "cell_type": "markdown",
   "metadata": {},
   "source": [
    "#### Modeling the insurance charges with linear regression"
   ]
  },
  {
   "cell_type": "code",
   "execution_count": 183,
   "metadata": {},
   "outputs": [
    {
     "name": "stdout",
     "output_type": "stream",
     "text": [
      "\n",
      "Coefficients: \n",
      " [-3.24962454e+01 -2.01413742e-01  4.04836936e-03 -6.91759209e-04]\n",
      "\n",
      "Intercept: \n",
      " 37.92643818528512\n"
     ]
    }
   ],
   "source": [
    "# Y is the target variable\n",
    "Y = temp_df['temperature']\n",
    "# X is the feature set which includes\n",
    "# humidity, windspeed, windbearing, and pressure variables\n",
    "X = temp_df[[\"humidity\", \"windspeed\", \"windbearing\",\"pressure\"]]\n",
    "\n",
    "# We create a LinearRegression model object\n",
    "# from scikit-learn's linear_model module.\n",
    "lrm = linear_model.LinearRegression()\n",
    "\n",
    "# fit method estimates the coefficients using OLS\n",
    "lrm.fit(X, Y)\n",
    "\n",
    "# Inspect the results.\n",
    "print('\\nCoefficients: \\n', lrm.coef_)\n",
    "print('\\nIntercept: \\n', lrm.intercept_)"
   ]
  },
  {
   "cell_type": "code",
   "execution_count": 184,
   "metadata": {},
   "outputs": [
    {
     "name": "stdout",
     "output_type": "stream",
     "text": [
      "0        9.472\n",
      "1        9.356\n",
      "2        9.378\n",
      "3        8.289\n",
      "4        8.756\n",
      "         ...  \n",
      "96448   26.017\n",
      "96449   24.583\n",
      "96450   22.039\n",
      "96451   21.522\n",
      "96452   20.439\n",
      "Name: temperature, Length: 96453, dtype: float64\n"
     ]
    }
   ],
   "source": [
    "print(Y)"
   ]
  },
  {
   "cell_type": "markdown",
   "metadata": {},
   "source": [
    "#####  our estimated model: temperature =37.93 + −32.49humidity + -0.20windspeed + 0.0040windbearing + -0.000692pressure"
   ]
  },
  {
   "cell_type": "code",
   "execution_count": 185,
   "metadata": {},
   "outputs": [
    {
     "data": {
      "text/html": [
       "<div>\n",
       "<style scoped>\n",
       "    .dataframe tbody tr th:only-of-type {\n",
       "        vertical-align: middle;\n",
       "    }\n",
       "\n",
       "    .dataframe tbody tr th {\n",
       "        vertical-align: top;\n",
       "    }\n",
       "\n",
       "    .dataframe thead th {\n",
       "        text-align: right;\n",
       "    }\n",
       "</style>\n",
       "<table border=\"1\" class=\"dataframe\">\n",
       "  <thead>\n",
       "    <tr style=\"text-align: right;\">\n",
       "      <th></th>\n",
       "      <th>temperature</th>\n",
       "      <th>apparenttemperature</th>\n",
       "      <th>humidity</th>\n",
       "      <th>windspeed</th>\n",
       "      <th>windbearing</th>\n",
       "      <th>visibility</th>\n",
       "      <th>loudcover</th>\n",
       "      <th>pressure</th>\n",
       "    </tr>\n",
       "  </thead>\n",
       "  <tbody>\n",
       "    <tr>\n",
       "      <th>count</th>\n",
       "      <td>96453.000</td>\n",
       "      <td>96453.000</td>\n",
       "      <td>96453.000</td>\n",
       "      <td>96453.000</td>\n",
       "      <td>96453.000</td>\n",
       "      <td>96453.000</td>\n",
       "      <td>96453.000</td>\n",
       "      <td>96453.000</td>\n",
       "    </tr>\n",
       "    <tr>\n",
       "      <th>mean</th>\n",
       "      <td>11.933</td>\n",
       "      <td>10.855</td>\n",
       "      <td>0.735</td>\n",
       "      <td>10.811</td>\n",
       "      <td>187.509</td>\n",
       "      <td>10.347</td>\n",
       "      <td>0.000</td>\n",
       "      <td>1003.236</td>\n",
       "    </tr>\n",
       "    <tr>\n",
       "      <th>std</th>\n",
       "      <td>9.552</td>\n",
       "      <td>10.697</td>\n",
       "      <td>0.195</td>\n",
       "      <td>6.914</td>\n",
       "      <td>107.383</td>\n",
       "      <td>4.192</td>\n",
       "      <td>0.000</td>\n",
       "      <td>116.970</td>\n",
       "    </tr>\n",
       "    <tr>\n",
       "      <th>min</th>\n",
       "      <td>-21.822</td>\n",
       "      <td>-27.717</td>\n",
       "      <td>0.000</td>\n",
       "      <td>0.000</td>\n",
       "      <td>0.000</td>\n",
       "      <td>0.000</td>\n",
       "      <td>0.000</td>\n",
       "      <td>0.000</td>\n",
       "    </tr>\n",
       "    <tr>\n",
       "      <th>25%</th>\n",
       "      <td>4.689</td>\n",
       "      <td>2.311</td>\n",
       "      <td>0.600</td>\n",
       "      <td>5.828</td>\n",
       "      <td>116.000</td>\n",
       "      <td>8.340</td>\n",
       "      <td>0.000</td>\n",
       "      <td>1011.900</td>\n",
       "    </tr>\n",
       "    <tr>\n",
       "      <th>50%</th>\n",
       "      <td>12.000</td>\n",
       "      <td>12.000</td>\n",
       "      <td>0.780</td>\n",
       "      <td>9.966</td>\n",
       "      <td>180.000</td>\n",
       "      <td>10.046</td>\n",
       "      <td>0.000</td>\n",
       "      <td>1016.450</td>\n",
       "    </tr>\n",
       "    <tr>\n",
       "      <th>75%</th>\n",
       "      <td>18.839</td>\n",
       "      <td>18.839</td>\n",
       "      <td>0.890</td>\n",
       "      <td>14.136</td>\n",
       "      <td>290.000</td>\n",
       "      <td>14.812</td>\n",
       "      <td>0.000</td>\n",
       "      <td>1021.090</td>\n",
       "    </tr>\n",
       "    <tr>\n",
       "      <th>max</th>\n",
       "      <td>39.906</td>\n",
       "      <td>39.344</td>\n",
       "      <td>1.000</td>\n",
       "      <td>63.853</td>\n",
       "      <td>359.000</td>\n",
       "      <td>16.100</td>\n",
       "      <td>0.000</td>\n",
       "      <td>1046.380</td>\n",
       "    </tr>\n",
       "  </tbody>\n",
       "</table>\n",
       "</div>"
      ],
      "text/plain": [
       "       temperature  apparenttemperature  humidity  windspeed  windbearing  \\\n",
       "count    96453.000            96453.000 96453.000  96453.000    96453.000   \n",
       "mean        11.933               10.855     0.735     10.811      187.509   \n",
       "std          9.552               10.697     0.195      6.914      107.383   \n",
       "min        -21.822              -27.717     0.000      0.000        0.000   \n",
       "25%          4.689                2.311     0.600      5.828      116.000   \n",
       "50%         12.000               12.000     0.780      9.966      180.000   \n",
       "75%         18.839               18.839     0.890     14.136      290.000   \n",
       "max         39.906               39.344     1.000     63.853      359.000   \n",
       "\n",
       "       visibility  loudcover  pressure  \n",
       "count   96453.000  96453.000 96453.000  \n",
       "mean       10.347      0.000  1003.236  \n",
       "std         4.192      0.000   116.970  \n",
       "min         0.000      0.000     0.000  \n",
       "25%         8.340      0.000  1011.900  \n",
       "50%        10.046      0.000  1016.450  \n",
       "75%        14.812      0.000  1021.090  \n",
       "max        16.100      0.000  1046.380  "
      ]
     },
     "execution_count": 185,
     "metadata": {},
     "output_type": "execute_result"
    }
   ],
   "source": [
    "temp_df.describe()"
   ]
  },
  {
   "cell_type": "code",
   "execution_count": 186,
   "metadata": {},
   "outputs": [],
   "source": [
    "# run the same model, this time using statsmodels"
   ]
  },
  {
   "cell_type": "code",
   "execution_count": 219,
   "metadata": {},
   "outputs": [
    {
     "data": {
      "text/html": [
       "<table class=\"simpletable\">\n",
       "<caption>OLS Regression Results</caption>\n",
       "<tr>\n",
       "  <th>Dep. Variable:</th>       <td>temperature</td>   <th>  R-squared:         </th>  <td>   0.421</td>  \n",
       "</tr>\n",
       "<tr>\n",
       "  <th>Model:</th>                   <td>OLS</td>       <th>  Adj. R-squared:    </th>  <td>   0.421</td>  \n",
       "</tr>\n",
       "<tr>\n",
       "  <th>Method:</th>             <td>Least Squares</td>  <th>  F-statistic:       </th>  <td>1.750e+04</td> \n",
       "</tr>\n",
       "<tr>\n",
       "  <th>Date:</th>             <td>Thu, 19 Dec 2019</td> <th>  Prob (F-statistic):</th>   <td>  0.00</td>   \n",
       "</tr>\n",
       "<tr>\n",
       "  <th>Time:</th>                 <td>11:58:35</td>     <th>  Log-Likelihood:    </th> <td>-3.2821e+05</td>\n",
       "</tr>\n",
       "<tr>\n",
       "  <th>No. Observations:</th>      <td> 96453</td>      <th>  AIC:               </th>  <td>6.564e+05</td> \n",
       "</tr>\n",
       "<tr>\n",
       "  <th>Df Residuals:</th>          <td> 96448</td>      <th>  BIC:               </th>  <td>6.565e+05</td> \n",
       "</tr>\n",
       "<tr>\n",
       "  <th>Df Model:</th>              <td>     4</td>      <th>                     </th>      <td> </td>     \n",
       "</tr>\n",
       "<tr>\n",
       "  <th>Covariance Type:</th>      <td>nonrobust</td>    <th>                     </th>      <td> </td>     \n",
       "</tr>\n",
       "</table>\n",
       "<table class=\"simpletable\">\n",
       "<tr>\n",
       "       <td></td>          <th>coef</th>     <th>std err</th>      <th>t</th>      <th>P>|t|</th>  <th>[0.025</th>    <th>0.975]</th>  \n",
       "</tr>\n",
       "<tr>\n",
       "  <th>const</th>       <td>   37.9264</td> <td>    0.233</td> <td>  162.709</td> <td> 0.000</td> <td>   37.470</td> <td>   38.383</td>\n",
       "</tr>\n",
       "<tr>\n",
       "  <th>humidity</th>    <td>  -32.4962</td> <td>    0.123</td> <td> -264.288</td> <td> 0.000</td> <td>  -32.737</td> <td>  -32.255</td>\n",
       "</tr>\n",
       "<tr>\n",
       "  <th>windspeed</th>   <td>   -0.2014</td> <td>    0.003</td> <td>  -57.557</td> <td> 0.000</td> <td>   -0.208</td> <td>   -0.195</td>\n",
       "</tr>\n",
       "<tr>\n",
       "  <th>windbearing</th> <td>    0.0040</td> <td>    0.000</td> <td>   18.463</td> <td> 0.000</td> <td>    0.004</td> <td>    0.004</td>\n",
       "</tr>\n",
       "<tr>\n",
       "  <th>pressure</th>    <td>   -0.0007</td> <td>    0.000</td> <td>   -3.452</td> <td> 0.001</td> <td>   -0.001</td> <td>   -0.000</td>\n",
       "</tr>\n",
       "</table>\n",
       "<table class=\"simpletable\">\n",
       "<tr>\n",
       "  <th>Omnibus:</th>       <td>3375.432</td> <th>  Durbin-Watson:     </th> <td>   0.059</td>\n",
       "</tr>\n",
       "<tr>\n",
       "  <th>Prob(Omnibus):</th>  <td> 0.000</td>  <th>  Jarque-Bera (JB):  </th> <td>3793.297</td>\n",
       "</tr>\n",
       "<tr>\n",
       "  <th>Skew:</th>           <td>-0.455</td>  <th>  Prob(JB):          </th> <td>    0.00</td>\n",
       "</tr>\n",
       "<tr>\n",
       "  <th>Kurtosis:</th>       <td> 3.339</td>  <th>  Cond. No.          </th> <td>1.06e+04</td>\n",
       "</tr>\n",
       "</table><br/><br/>Warnings:<br/>[1] Standard Errors assume that the covariance matrix of the errors is correctly specified.<br/>[2] The condition number is large, 1.06e+04. This might indicate that there are<br/>strong multicollinearity or other numerical problems."
      ],
      "text/plain": [
       "<class 'statsmodels.iolib.summary.Summary'>\n",
       "\"\"\"\n",
       "                            OLS Regression Results                            \n",
       "==============================================================================\n",
       "Dep. Variable:            temperature   R-squared:                       0.421\n",
       "Model:                            OLS   Adj. R-squared:                  0.421\n",
       "Method:                 Least Squares   F-statistic:                 1.750e+04\n",
       "Date:                Thu, 19 Dec 2019   Prob (F-statistic):               0.00\n",
       "Time:                        11:58:35   Log-Likelihood:            -3.2821e+05\n",
       "No. Observations:               96453   AIC:                         6.564e+05\n",
       "Df Residuals:                   96448   BIC:                         6.565e+05\n",
       "Df Model:                           4                                         \n",
       "Covariance Type:            nonrobust                                         \n",
       "===============================================================================\n",
       "                  coef    std err          t      P>|t|      [0.025      0.975]\n",
       "-------------------------------------------------------------------------------\n",
       "const          37.9264      0.233    162.709      0.000      37.470      38.383\n",
       "humidity      -32.4962      0.123   -264.288      0.000     -32.737     -32.255\n",
       "windspeed      -0.2014      0.003    -57.557      0.000      -0.208      -0.195\n",
       "windbearing     0.0040      0.000     18.463      0.000       0.004       0.004\n",
       "pressure       -0.0007      0.000     -3.452      0.001      -0.001      -0.000\n",
       "==============================================================================\n",
       "Omnibus:                     3375.432   Durbin-Watson:                   0.059\n",
       "Prob(Omnibus):                  0.000   Jarque-Bera (JB):             3793.297\n",
       "Skew:                          -0.455   Prob(JB):                         0.00\n",
       "Kurtosis:                       3.339   Cond. No.                     1.06e+04\n",
       "==============================================================================\n",
       "\n",
       "Warnings:\n",
       "[1] Standard Errors assume that the covariance matrix of the errors is correctly specified.\n",
       "[2] The condition number is large, 1.06e+04. This might indicate that there are\n",
       "strong multicollinearity or other numerical problems.\n",
       "\"\"\""
      ]
     },
     "execution_count": 219,
     "metadata": {},
     "output_type": "execute_result"
    }
   ],
   "source": [
    "import statsmodels.api as sm\n",
    "\n",
    "# We need to manually add a constant\n",
    "# in statsmodels' sm\n",
    "X = sm.add_constant(X)\n",
    "\n",
    "results = sm.OLS(Y, X).fit()\n",
    "\n",
    "results.summary()"
   ]
  },
  {
   "cell_type": "markdown",
   "metadata": {},
   "source": [
    "#### Check if model meets the Gauss-Markov Conditions"
   ]
  },
  {
   "cell_type": "code",
   "execution_count": 220,
   "metadata": {},
   "outputs": [],
   "source": [
    "# Assumption one: linearity of the model in its coefficients\n",
    "# # this is the equation: Y = 1 + 2*X + 3*X^2 + 4*X^3 + 5*X^4 \n",
    "temp_df[\"Y\"] = 1 + 2*temp_df[\"humidity\"] + 3*temp_df[\"windspeed\"]**2+ 4*temp_df[\"windbearing\"]**3 + 5*temp_df[\"pressure\"]**4"
   ]
  },
  {
   "cell_type": "code",
   "execution_count": 221,
   "metadata": {},
   "outputs": [],
   "source": [
    "# our estimated model: temperature =\n",
    "# 37.93 + −32.49humidity + -0.20windspeed + 0.0040windbearing + -0.000692pressure"
   ]
  },
  {
   "cell_type": "code",
   "execution_count": 222,
   "metadata": {},
   "outputs": [],
   "source": [
    "temp_df[\"Y\"] = 37.93 + 2*(-32.49) + 3*(-0.2)**2 + 4*(0.004)**3 + 5*(-0.000692)**4"
   ]
  },
  {
   "cell_type": "code",
   "execution_count": 224,
   "metadata": {},
   "outputs": [
    {
     "data": {
      "text/plain": [
       "LinearRegression(copy_X=True, fit_intercept=True, n_jobs=None, normalize=False)"
      ]
     },
     "execution_count": 224,
     "metadata": {},
     "output_type": "execute_result"
    }
   ],
   "source": [
    "# we fit a linear regression where target is Y\n",
    "# and features are X^1,X^2, X^3 and X^4\n",
    "from sklearn import linear_model\n",
    "lrm_example = linear_model.LinearRegression()\n",
    "lrm_example.fit(temp_df[[\"humidity\", \"windspeed\", \"windbearing\", \"pressure\"]],temp_df[\"Y\"])"
   ]
  },
  {
   "cell_type": "code",
   "execution_count": 218,
   "metadata": {},
   "outputs": [
    {
     "name": "stdout",
     "output_type": "stream",
     "text": [
      "\n",
      "Coefficients: \n",
      " [-3.24962454e+01 -2.01413742e-01  4.04836936e-03 -6.91759209e-04]\n",
      "\n",
      "Intercept: \n",
      " 37.92643818528512\n"
     ]
    }
   ],
   "source": [
    "# Y is the target variable\n",
    "Y = temp_df['temperature']\n",
    "# X is the feature set which includes\n",
    "# humidity, windspeed, windbearing, and pressure variables\n",
    "X = temp_df[[\"humidity\", \"windspeed\", \"windbearing\",\"pressure\"]]\n",
    "\n",
    "# We create a LinearRegression model object\n",
    "# from scikit-learn's linear_model module.\n",
    "lrm = linear_model.LinearRegression()\n",
    "\n",
    "# fit method estimates the coefficients using OLS\n",
    "lrm.fit(X, Y)\n",
    "\n",
    "# Inspect the results.\n",
    "print('\\nCoefficients: \\n', lrm.coef_)\n",
    "print('\\nIntercept: \\n', lrm.intercept_)"
   ]
  },
  {
   "cell_type": "code",
   "execution_count": 197,
   "metadata": {},
   "outputs": [
    {
     "name": "stdout",
     "output_type": "stream",
     "text": [
      "\n",
      "Coefficients: \n",
      " [-4.04940062e-29 -2.40151446e-31  4.76400820e-33  4.22896569e-33]\n",
      "\n",
      "Intercept: \n",
      " -26.929999743998852\n"
     ]
    }
   ],
   "source": [
    "# predictions of the linear regression\n",
    "predictions = lrm_example.predict(temp_df[[\"humidity\", \"windspeed\", \"windbearing\", \"pressure\"]])\n",
    "# we print the estimated coefficients\n",
    "print('\\nCoefficients: \\n', lrm_example.coef_)\n",
    "print('\\nIntercept: \\n', lrm_example.intercept_)"
   ]
  },
  {
   "cell_type": "code",
   "execution_count": 208,
   "metadata": {},
   "outputs": [
    {
     "data": {
      "image/png": "[encoded data removed]",
      "text/plain": [
       "<Figure size 432x288 with 1 Axes>"
      ]
     },
     "metadata": {
      "needs_background": "light"
     },
     "output_type": "display_data"
    }
   ],
   "source": [
    "# we plot the estimated Y and X\n",
    "# the relationship should be quadratic\n",
    "plt.scatter(temp_df[\"humidity\"], predictions)\n",
    "plt.xlabel(\"feature\")\n",
    "plt.ylabel(\"target\")\n",
    "plt.title('Linear regression can capture quadratic relationship')\n",
    "plt.show()"
   ]
  },
  {
   "cell_type": "code",
   "execution_count": 214,
   "metadata": {},
   "outputs": [
    {
     "data": {
      "image/png": "[encoded data removed]",
      "text/plain": [
       "<Figure size 432x288 with 1 Axes>"
      ]
     },
     "metadata": {
      "needs_background": "light"
     },
     "output_type": "display_data"
    }
   ],
   "source": [
    "# we plot the estimated Y and X\n",
    "# the relationship should be quadratic\n",
    "plt.scatter(temp_df[\"humidity\"], predictions)\n",
    "plt.xlabel(\"humidity\")\n",
    "plt.ylabel(\"target\")\n",
    "plt.title('Linear regression relationship')\n",
    "plt.show()"
   ]
  },
  {
   "cell_type": "code",
   "execution_count": 215,
   "metadata": {},
   "outputs": [
    {
     "data": {
      "image/png": "[encoded data removed]",
      "text/plain": [
       "<Figure size 432x288 with 1 Axes>"
      ]
     },
     "metadata": {
      "needs_background": "light"
     },
     "output_type": "display_data"
    }
   ],
   "source": [
    "plt.scatter(temp_df[\"windspeed\"], predictions)\n",
    "plt.xlabel(\"windspeed\")\n",
    "plt.ylabel(\"target\")\n",
    "plt.title('Linear regression relationship')\n",
    "plt.show()"
   ]
  },
  {
   "cell_type": "code",
   "execution_count": 216,
   "metadata": {},
   "outputs": [
    {
     "data": {
      "image/png": "[encoded data removed]",
      "text/plain": [
       "<Figure size 432x288 with 1 Axes>"
      ]
     },
     "metadata": {
      "needs_background": "light"
     },
     "output_type": "display_data"
    }
   ],
   "source": [
    "plt.scatter(temp_df[\"windbearing\"], predictions)\n",
    "plt.xlabel(\"windbearing\")\n",
    "plt.ylabel(\"target\")\n",
    "plt.title('Linear regression  relationship')\n",
    "plt.show()"
   ]
  },
  {
   "cell_type": "code",
   "execution_count": 217,
   "metadata": {},
   "outputs": [
    {
     "data": {
      "image/png": "[encoded data removed]",
      "text/plain": [
       "<Figure size 432x288 with 1 Axes>"
      ]
     },
     "metadata": {
      "needs_background": "light"
     },
     "output_type": "display_data"
    }
   ],
   "source": [
    "plt.scatter(temp_df[\"pressure\"], predictions)\n",
    "plt.xlabel(\"pressure\")\n",
    "plt.ylabel(\"target\")\n",
    "plt.title('Linear regression relationship')\n",
    "plt.show()"
   ]
  },
  {
   "cell_type": "code",
   "execution_count": null,
   "metadata": {},
   "outputs": [],
   "source": []
  }
 ],
 "metadata": {
  "kernelspec": {
   "display_name": "Python 3",
   "language": "python",
   "name": "python3"
  },
  "language_info": {
   "codemirror_mode": {
    "name": "ipython",
    "version": 3
   },
   "file_extension": ".py",
   "mimetype": "text/x-python",
   "name": "python",
   "nbconvert_exporter": "python",
   "pygments_lexer": "ipython3",
   "version": "3.7.4"
  }
 },
 "nbformat": 4,
 "nbformat_minor": 2
}
